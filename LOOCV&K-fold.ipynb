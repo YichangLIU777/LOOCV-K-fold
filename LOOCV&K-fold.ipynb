{
 "cells": [
  {
   "cell_type": "markdown",
   "metadata": {},
   "source": [
    "## LOOCV，K-ford\n",
    "#### 通过生成polynomial的函数 通过LOOCV和K-fold来计算MSE 通过MSE选择在不同polynomial的模型里选取最合适的\n",
    "#### 适用于样本比较小的数据集"
   ]
  },
  {
   "cell_type": "code",
   "execution_count": 93,
   "metadata": {},
   "outputs": [],
   "source": [
    "from sklearn.model_selection import train_test_split\n",
    "from sklearn.model_selection import LeaveOneOut\n",
    "from sklearn.model_selection import cross_val_score\n",
    "from sklearn.metrics import accuracy_score\n",
    "from sklearn.linear_model import LinearRegression\n",
    "from sklearn.preprocessing import PolynomialFeatures \n",
    "from sklearn.metrics import mean_squared_error, r2_score\n",
    "from sklearn.metrics import classification_report\n",
    "from numpy import mean\n",
    "from numpy import absolute\n",
    "from numpy import sqrt\n",
    "import numpy as np\n",
    "import pandas as pd\n"
   ]
  },
  {
   "cell_type": "code",
   "execution_count": 94,
   "metadata": {},
   "outputs": [
    {
     "data": {
      "text/html": [
       "<div>\n",
       "<style scoped>\n",
       "    .dataframe tbody tr th:only-of-type {\n",
       "        vertical-align: middle;\n",
       "    }\n",
       "\n",
       "    .dataframe tbody tr th {\n",
       "        vertical-align: top;\n",
       "    }\n",
       "\n",
       "    .dataframe thead th {\n",
       "        text-align: right;\n",
       "    }\n",
       "</style>\n",
       "<table border=\"1\" class=\"dataframe\">\n",
       "  <thead>\n",
       "    <tr style=\"text-align: right;\">\n",
       "      <th></th>\n",
       "      <th>mpg</th>\n",
       "      <th>cylinders</th>\n",
       "      <th>displacement</th>\n",
       "      <th>horsepower</th>\n",
       "      <th>weight</th>\n",
       "      <th>acceleration</th>\n",
       "      <th>year</th>\n",
       "      <th>origin</th>\n",
       "      <th>name</th>\n",
       "    </tr>\n",
       "  </thead>\n",
       "  <tbody>\n",
       "    <tr>\n",
       "      <th>0</th>\n",
       "      <td>18.0</td>\n",
       "      <td>8</td>\n",
       "      <td>307.0</td>\n",
       "      <td>130</td>\n",
       "      <td>3504</td>\n",
       "      <td>12.0</td>\n",
       "      <td>70</td>\n",
       "      <td>1</td>\n",
       "      <td>chevrolet chevelle malibu</td>\n",
       "    </tr>\n",
       "    <tr>\n",
       "      <th>1</th>\n",
       "      <td>15.0</td>\n",
       "      <td>8</td>\n",
       "      <td>350.0</td>\n",
       "      <td>165</td>\n",
       "      <td>3693</td>\n",
       "      <td>11.5</td>\n",
       "      <td>70</td>\n",
       "      <td>1</td>\n",
       "      <td>buick skylark 320</td>\n",
       "    </tr>\n",
       "    <tr>\n",
       "      <th>2</th>\n",
       "      <td>18.0</td>\n",
       "      <td>8</td>\n",
       "      <td>318.0</td>\n",
       "      <td>150</td>\n",
       "      <td>3436</td>\n",
       "      <td>11.0</td>\n",
       "      <td>70</td>\n",
       "      <td>1</td>\n",
       "      <td>plymouth satellite</td>\n",
       "    </tr>\n",
       "    <tr>\n",
       "      <th>3</th>\n",
       "      <td>16.0</td>\n",
       "      <td>8</td>\n",
       "      <td>304.0</td>\n",
       "      <td>150</td>\n",
       "      <td>3433</td>\n",
       "      <td>12.0</td>\n",
       "      <td>70</td>\n",
       "      <td>1</td>\n",
       "      <td>amc rebel sst</td>\n",
       "    </tr>\n",
       "    <tr>\n",
       "      <th>4</th>\n",
       "      <td>17.0</td>\n",
       "      <td>8</td>\n",
       "      <td>302.0</td>\n",
       "      <td>140</td>\n",
       "      <td>3449</td>\n",
       "      <td>10.5</td>\n",
       "      <td>70</td>\n",
       "      <td>1</td>\n",
       "      <td>ford torino</td>\n",
       "    </tr>\n",
       "  </tbody>\n",
       "</table>\n",
       "</div>"
      ],
      "text/plain": [
       "    mpg  cylinders  displacement  horsepower  weight  acceleration  year  \\\n",
       "0  18.0          8         307.0         130    3504          12.0    70   \n",
       "1  15.0          8         350.0         165    3693          11.5    70   \n",
       "2  18.0          8         318.0         150    3436          11.0    70   \n",
       "3  16.0          8         304.0         150    3433          12.0    70   \n",
       "4  17.0          8         302.0         140    3449          10.5    70   \n",
       "\n",
       "   origin                       name  \n",
       "0       1  chevrolet chevelle malibu  \n",
       "1       1          buick skylark 320  \n",
       "2       1         plymouth satellite  \n",
       "3       1              amc rebel sst  \n",
       "4       1                ford torino  "
      ]
     },
     "execution_count": 94,
     "metadata": {},
     "output_type": "execute_result"
    }
   ],
   "source": [
    "dataset = pd.read_excel('Auto.xlsx')\n",
    "dataset.head(5)"
   ]
  },
  {
   "cell_type": "markdown",
   "metadata": {},
   "source": [
    "### Split Training and Testing dataset"
   ]
  },
  {
   "cell_type": "code",
   "execution_count": 95,
   "metadata": {},
   "outputs": [],
   "source": [
    "X_train, X_test, y_train, y_test = train_test_split(dataset[\"horsepower\"], dataset[\"mpg\"], test_size=0.5, random_state=77)\n",
    "X_train = np.array(X_train).reshape(-1, 1)\n",
    "y_train = np.array(y_train)"
   ]
  },
  {
   "cell_type": "markdown",
   "metadata": {},
   "source": [
    "### Fit models with different degrees"
   ]
  },
  {
   "cell_type": "code",
   "execution_count": 96,
   "metadata": {},
   "outputs": [
    {
     "name": "stdout",
     "output_type": "stream",
     "text": [
      "R^2: 0.6009749692355413\n",
      "intercept: 41.03108069621042\n",
      "coefficients:[ 0.         -0.16991311]\n",
      "MSE:22.801891362837296\n",
      "       \n",
      "       \n",
      "R^2: 0.6473049445337324\n",
      "intercept: 55.46316417446556\n",
      "coefficients:[ 0.         -0.43887587  0.001112  ]\n",
      "MSE:15.482153729976943\n",
      "       \n",
      "       \n",
      "R^2: 0.6480096140317292\n",
      "intercept: 59.904366554112535\n",
      "coefficients:[ 0.00000000e+00 -5.63523882e-01  2.18698431e-03 -2.86031927e-06]\n",
      "MSE:15.603234678327231\n",
      "       \n",
      "       \n"
     ]
    }
   ],
   "source": [
    "##### Polynomial Function\n",
    "for i in range(1,4):\n",
    "    # transformer = PolynomialFeatures(degree=i, include_bias=True)\n",
    "    x_ = PolynomialFeatures(degree=i, include_bias=True).fit_transform(X_train)\n",
    "    model = LinearRegression(fit_intercept=True).fit(x_, y_train)\n",
    "    ###############\n",
    "    x_2 = PolynomialFeatures(degree=i, include_bias=True).fit_transform(np.array(X_test).reshape(-1, 1))\n",
    "    predicted = model.predict(x_2)\n",
    "    ###############\n",
    "    r_sq = model.score(x_, y_train)\n",
    "    intercept, coefficients = model.intercept_, model.coef_\n",
    "    mse = mean_squared_error(y_test, predicted)\n",
    "    ###############\n",
    "    print(f\"R^2: {r_sq}\")\n",
    "    print(f\"intercept: {intercept}\")\n",
    "    print(f\"coefficients:{coefficients}\")\n",
    "    print(f\"MSE:{mse}\")\n",
    "    print(\"       \")\n",
    "    print(\"       \")\n",
    "    # print(f\"top 5 predicted response:\\n{predicted}\")"
   ]
  },
  {
   "cell_type": "markdown",
   "metadata": {},
   "source": [
    "### Leave-one-out Cross Validation"
   ]
  },
  {
   "cell_type": "code",
   "execution_count": 97,
   "metadata": {},
   "outputs": [
    {
     "name": "stdout",
     "output_type": "stream",
     "text": [
      "阶数: 1\n",
      "MAE(mean absolute error): 3.85\n",
      "MSE(mean squared error): 24.231513517929226\n",
      "       \n",
      "       \n",
      "阶数: 2\n",
      "MAE(mean absolute error): 3.27\n",
      "MSE(mean squared error): 19.248213124489745\n",
      "       \n",
      "       \n",
      "阶数: 3\n",
      "MAE(mean absolute error): 3.28\n",
      "MSE(mean squared error): 19.33498406411498\n",
      "       \n",
      "       \n"
     ]
    }
   ],
   "source": [
    "#define predictor and response variables\n",
    "\n",
    "from sklearn.linear_model import LogisticRegression\n",
    "\n",
    "\n",
    "X_train = dataset[\"horsepower\"]\n",
    "y_train = dataset[\"mpg\"]\n",
    "X_train = np.array(X_train).reshape(-1, 1)\n",
    "y_train = np.array(y_train)\n",
    "cv = LeaveOneOut()\n",
    "    #build multiple linear regression model\n",
    "for i in range(1,4):\n",
    "    x_ = PolynomialFeatures(degree=i, include_bias=True).fit_transform(X_train)\n",
    "    model = LinearRegression()\n",
    "    scores = cross_val_score(model, x_, y_train, scoring='neg_mean_absolute_error',\n",
    "                            cv=cv, n_jobs= -1)\n",
    "    #view mean absolute error\n",
    "    print(\"阶数:\", i)\n",
    "    print(\"MAE(mean absolute error):\", round(mean(absolute(scores)),2))\n",
    "    scores_1 = cross_val_score(model, x_, y_train, scoring='neg_mean_squared_error',\n",
    "                        cv=cv, n_jobs= -1)\n",
    "    print(\"MSE(mean squared error):\", abs(mean(scores_1)))\n",
    "    print(\"       \")\n",
    "    print(\"       \")"
   ]
  },
  {
   "cell_type": "markdown",
   "metadata": {},
   "source": [
    "### K-fold"
   ]
  },
  {
   "cell_type": "code",
   "execution_count": 98,
   "metadata": {},
   "outputs": [
    {
     "name": "stdout",
     "output_type": "stream",
     "text": [
      "阶数: 1\n",
      "MAE(mean absolute error): 4.11\n",
      "MSE(mean squared error): 27.44\n",
      "       \n",
      "       \n",
      "阶数: 2\n",
      "MAE(mean absolute error): 3.46\n",
      "MSE(mean squared error): 21.24\n",
      "       \n",
      "       \n",
      "阶数: 3\n",
      "MAE(mean absolute error): 3.47\n",
      "MSE(mean squared error): 21.34\n",
      "       \n",
      "       \n"
     ]
    }
   ],
   "source": [
    "#define predictor and response variables\n",
    "\n",
    "from sklearn.linear_model import LogisticRegression\n",
    "from sklearn.model_selection import KFold, LeavePOut\n",
    "\n",
    "X_train = dataset[\"horsepower\"]\n",
    "y_train = dataset[\"mpg\"]\n",
    "X_train = np.array(X_train).reshape(-1, 1)\n",
    "y_train = np.array(y_train)\n",
    "\n",
    "# cv = KFold(n_splits=len(X_train)) #分成len(X_train)就相当于LOOCV\n",
    "cv = KFold(n_splits=10) \n",
    "    #build multiple linear regression model\n",
    "for i in range(1,4):\n",
    "    x_ = PolynomialFeatures(degree=i, include_bias=True).fit_transform(X_train)\n",
    "    model = LinearRegression()\n",
    "    scores = cross_val_score(model, x_, y_train, scoring='neg_mean_absolute_error',\n",
    "                            cv=cv, n_jobs= -1)\n",
    "    #view mean absolute error\n",
    "    print(\"阶数:\", i)\n",
    "    print(\"MAE(mean absolute error):\", round(mean(absolute(scores)),2))\n",
    "    scores_1 = cross_val_score(model, x_, y_train, scoring='neg_mean_squared_error',\n",
    "                        cv=cv, n_jobs= -1)\n",
    "    print(\"MSE(mean squared error):\", round(abs(mean(scores_1)),2))\n",
    "    print(\"       \")\n",
    "    print(\"       \")"
   ]
  }
 ],
 "metadata": {
  "kernelspec": {
   "display_name": "Python 3.8.5 64-bit",
   "language": "python",
   "name": "python3"
  },
  "language_info": {
   "codemirror_mode": {
    "name": "ipython",
    "version": 3
   },
   "file_extension": ".py",
   "mimetype": "text/x-python",
   "name": "python",
   "nbconvert_exporter": "python",
   "pygments_lexer": "ipython3",
   "version": "3.8.5"
  },
  "orig_nbformat": 4,
  "vscode": {
   "interpreter": {
    "hash": "aee8b7b246df8f9039afb4144a1f6fd8d2ca17a180786b69acc140d282b71a49"
   }
  }
 },
 "nbformat": 4,
 "nbformat_minor": 2
}
